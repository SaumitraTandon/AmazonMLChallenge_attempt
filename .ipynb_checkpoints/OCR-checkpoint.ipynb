{
 "cells": [
  {
   "cell_type": "code",
   "execution_count": 32,
   "id": "afa413f6-6c08-4e72-8a6e-1712c90f962a",
   "metadata": {},
   "outputs": [],
   "source": [
    "import cv2 \n",
    "import pytesseract"
   ]
  },
  {
   "cell_type": "code",
   "execution_count": 34,
   "id": "7e535d5a-130d-40f1-a701-d51645793896",
   "metadata": {},
   "outputs": [],
   "source": [
    "pytesseract.pytesseract.tesseract_cmd = r'C:\\Program Files (x86)\\Tesseract-OCR\\tesseract.exe'"
   ]
  },
  {
   "cell_type": "code",
   "execution_count": 100,
   "id": "e8394b8c-2f0f-4880-b203-738a0d7adeec",
   "metadata": {},
   "outputs": [],
   "source": [
    "img1 = cv2.imread(\"image_4.jpg\")"
   ]
  },
  {
   "cell_type": "code",
   "execution_count": 102,
   "id": "46a5574f-0bbf-4547-9d23-0280792b7110",
   "metadata": {},
   "outputs": [],
   "source": [
    "data1 = pytesseract.image_to_data(img1)"
   ]
  },
  {
   "cell_type": "code",
   "execution_count": 104,
   "id": "4f991114-eea9-46b0-a595-7e3e84cd4080",
   "metadata": {},
   "outputs": [
    {
     "data": {
      "text/plain": [
       "'level\\tpage_num\\tblock_num\\tpar_num\\tline_num\\tword_num\\tleft\\ttop\\twidth\\theight\\tconf\\ttext\\n1\\t1\\t0\\t0\\t0\\t0\\t0\\t0\\t500\\t371\\t-1\\t\\n2\\t1\\t1\\t0\\t0\\t0\\t108\\t20\\t283\\t54\\t-1\\t\\n3\\t1\\t1\\t1\\t0\\t0\\t108\\t20\\t283\\t54\\t-1\\t\\n4\\t1\\t1\\t1\\t1\\t0\\t108\\t20\\t283\\t19\\t-1\\t\\n5\\t1\\t1\\t1\\t1\\t1\\t108\\t20\\t97\\t19\\t96.672226\\tENERGY\\n5\\t1\\t1\\t1\\t1\\t2\\t213\\t20\\t178\\t19\\t96.531815\\tINFORMATION\\n4\\t1\\t1\\t1\\t2\\t0\\t188\\t54\\t124\\t20\\t-1\\t\\n5\\t1\\t1\\t1\\t2\\t1\\t188\\t56\\t16\\t13\\t96.270226\\tat\\n5\\t1\\t1\\t1\\t2\\t2\\t212\\t54\\t38\\t20\\t96.270226\\tHigh\\n5\\t1\\t1\\t1\\t2\\t3\\t258\\t54\\t54\\t19\\t96.140930\\tSpeed\\n2\\t1\\t2\\t0\\t0\\t0\\t27\\t81\\t446\\t2\\t-1\\t\\n3\\t1\\t2\\t1\\t0\\t0\\t27\\t81\\t446\\t2\\t-1\\t\\n4\\t1\\t2\\t1\\t1\\t0\\t27\\t81\\t446\\t2\\t-1\\t\\n5\\t1\\t2\\t1\\t1\\t1\\t27\\t81\\t446\\t2\\t95.000000\\t \\n2\\t1\\t3\\t0\\t0\\t0\\t76\\t96\\t52\\t13\\t-1\\t\\n3\\t1\\t3\\t1\\t0\\t0\\t76\\t96\\t52\\t13\\t-1\\t\\n4\\t1\\t3\\t1\\t1\\t0\\t76\\t96\\t52\\t13\\t-1\\t\\n5\\t1\\t3\\t1\\t1\\t1\\t76\\t96\\t52\\t13\\t95.869408\\tAirflow\\n2\\t1\\t4\\t0\\t0\\t0\\t57\\t128\\t90\\t32\\t-1\\t\\n3\\t1\\t4\\t1\\t0\\t0\\t57\\t128\\t90\\t32\\t-1\\t\\n4\\t1\\t4\\t1\\t1\\t0\\t57\\t128\\t90\\t32\\t-1\\t\\n5\\t1\\t4\\t1\\t1\\t1\\t57\\t128\\t90\\t32\\t96.958839\\t4,400\\n2\\t1\\t5\\t0\\t0\\t0\\t63\\t171\\t79\\t36\\t-1\\t\\n3\\t1\\t5\\t1\\t0\\t0\\t63\\t171\\t79\\t36\\t-1\\t\\n4\\t1\\t5\\t1\\t1\\t0\\t65\\t171\\t75\\t12\\t-1\\t\\n5\\t1\\t5\\t1\\t1\\t1\\t65\\t171\\t38\\t12\\t96.570175\\tCubic\\n5\\t1\\t5\\t1\\t1\\t2\\t110\\t171\\t30\\t12\\t96.570175\\tFeet\\n4\\t1\\t5\\t1\\t2\\t0\\t63\\t195\\t79\\t12\\t-1\\t\\n5\\t1\\t5\\t1\\t2\\t1\\t63\\t195\\t22\\t12\\t96.946381\\tPer\\n5\\t1\\t5\\t1\\t2\\t2\\t91\\t195\\t51\\t12\\t96.930000\\tMinute\\n2\\t1\\t6\\t0\\t0\\t0\\t200\\t97\\t101\\t15\\t-1\\t\\n3\\t1\\t6\\t1\\t0\\t0\\t200\\t97\\t101\\t15\\t-1\\t\\n4\\t1\\t6\\t1\\t1\\t0\\t200\\t97\\t101\\t15\\t-1\\t\\n5\\t1\\t6\\t1\\t1\\t1\\t200\\t97\\t70\\t15\\t89.459694\\tElectricity\\n5\\t1\\t6\\t1\\t1\\t2\\t276\\t97\\t25\\t12\\t96.505577\\tUse\\n2\\t1\\t7\\t0\\t0\\t0\\t230\\t129\\t39\\t26\\t-1\\t\\n3\\t1\\t7\\t1\\t0\\t0\\t230\\t129\\t39\\t26\\t-1\\t\\n4\\t1\\t7\\t1\\t1\\t0\\t230\\t129\\t39\\t26\\t-1\\t\\n5\\t1\\t7\\t1\\t1\\t1\\t230\\t129\\t39\\t26\\t95.993309\\t45\\n2\\t1\\t8\\t0\\t0\\t0\\t192\\t171\\t116\\t38\\t-1\\t\\n3\\t1\\t8\\t1\\t0\\t0\\t192\\t171\\t116\\t38\\t-1\\t\\n4\\t1\\t8\\t1\\t1\\t0\\t229\\t171\\t42\\t12\\t-1\\t\\n5\\t1\\t8\\t1\\t1\\t1\\t229\\t171\\t42\\t12\\t96.957649\\tWatts\\n4\\t1\\t8\\t1\\t2\\t0\\t192\\t194\\t116\\t15\\t-1\\t\\n5\\t1\\t8\\t1\\t2\\t1\\t192\\t194\\t68\\t15\\t95.440521\\t(excludes\\n5\\t1\\t8\\t1\\t2\\t2\\t266\\t194\\t42\\t15\\t96.883133\\tlights)\\n2\\t1\\t9\\t0\\t0\\t0\\t175\\t81\\t2\\t141\\t-1\\t\\n3\\t1\\t9\\t1\\t0\\t0\\t175\\t81\\t2\\t141\\t-1\\t\\n4\\t1\\t9\\t1\\t1\\t0\\t175\\t81\\t2\\t141\\t-1\\t\\n5\\t1\\t9\\t1\\t1\\t1\\t175\\t81\\t2\\t141\\t95.000000\\t \\n2\\t1\\t10\\t0\\t0\\t0\\t323\\t81\\t2\\t141\\t-1\\t\\n3\\t1\\t10\\t1\\t0\\t0\\t323\\t81\\t2\\t141\\t-1\\t\\n4\\t1\\t10\\t1\\t1\\t0\\t323\\t81\\t2\\t141\\t-1\\t\\n5\\t1\\t10\\t1\\t1\\t1\\t323\\t81\\t2\\t141\\t95.000000\\t \\n2\\t1\\t11\\t0\\t0\\t0\\t335\\t96\\t126\\t16\\t-1\\t\\n3\\t1\\t11\\t1\\t0\\t0\\t335\\t96\\t126\\t16\\t-1\\t\\n4\\t1\\t11\\t1\\t1\\t0\\t335\\t96\\t126\\t16\\t-1\\t\\n5\\t1\\t11\\t1\\t1\\t1\\t335\\t96\\t52\\t13\\t89.397537\\tAirflow\\n5\\t1\\t11\\t1\\t1\\t2\\t393\\t96\\t68\\t16\\t96.750214\\tEfficiency\\n2\\t1\\t12\\t0\\t0\\t0\\t379\\t128\\t38\\t27\\t-1\\t\\n3\\t1\\t12\\t1\\t0\\t0\\t379\\t128\\t38\\t27\\t-1\\t\\n4\\t1\\t12\\t1\\t1\\t0\\t379\\t128\\t38\\t27\\t-1\\t\\n5\\t1\\t12\\t1\\t1\\t1\\t379\\t128\\t38\\t27\\t96.701813\\t98\\n2\\t1\\t13\\t0\\t0\\t0\\t338\\t171\\t121\\t36\\t-1\\t\\n3\\t1\\t13\\t1\\t0\\t0\\t338\\t171\\t121\\t36\\t-1\\t\\n4\\t1\\t13\\t1\\t1\\t0\\t346\\t171\\t104\\t12\\t-1\\t\\n5\\t1\\t13\\t1\\t1\\t1\\t346\\t171\\t39\\t12\\t96.536736\\tCubic\\n5\\t1\\t13\\t1\\t1\\t2\\t391\\t171\\t31\\t12\\t96.743073\\tFeet\\n5\\t1\\t13\\t1\\t1\\t3\\t428\\t171\\t22\\t12\\t96.990280\\tPer\\n4\\t1\\t13\\t1\\t2\\t0\\t338\\t195\\t121\\t12\\t-1\\t\\n5\\t1\\t13\\t1\\t2\\t1\\t338\\t195\\t51\\t12\\t96.462494\\tMinute\\n5\\t1\\t13\\t1\\t2\\t2\\t396\\t195\\t22\\t12\\t96.893250\\tPer\\n5\\t1\\t13\\t1\\t2\\t3\\t423\\t195\\t36\\t12\\t96.490921\\tWatt\\n2\\t1\\t14\\t0\\t0\\t0\\t27\\t221\\t446\\t1\\t-1\\t\\n3\\t1\\t14\\t1\\t0\\t0\\t27\\t221\\t446\\t1\\t-1\\t\\n4\\t1\\t14\\t1\\t1\\t0\\t27\\t221\\t446\\t1\\t-1\\t\\n5\\t1\\t14\\t1\\t1\\t1\\t27\\t221\\t446\\t1\\t95.000000\\t \\n2\\t1\\t15\\t0\\t0\\t0\\t68\\t241\\t364\\t54\\t-1\\t\\n3\\t1\\t15\\t1\\t0\\t0\\t68\\t241\\t364\\t54\\t-1\\t\\n4\\t1\\t15\\t1\\t1\\t0\\t68\\t241\\t364\\t14\\t-1\\t\\n5\\t1\\t15\\t1\\t1\\t1\\t68\\t242\\t57\\t13\\t85.553825\\tCompare:\\n5\\t1\\t15\\t1\\t1\\t2\\t135\\t241\\t20\\t11\\t86.381088\\t36\"\\n5\\t1\\t15\\t1\\t1\\t3\\t160\\t243\\t13\\t9\\t96.031441\\tto\\n5\\t1\\t15\\t1\\t1\\t4\\t177\\t241\\t21\\t11\\t90.836487\\t48\"\\n5\\t1\\t15\\t1\\t1\\t5\\t204\\t241\\t40\\t14\\t80.074997\\tceiling\\n5\\t1\\t15\\t1\\t1\\t6\\t248\\t241\\t26\\t11\\t96.971077\\tfans\\n5\\t1\\t15\\t1\\t1\\t7\\t279\\t241\\t29\\t11\\t96.978989\\thave\\n5\\t1\\t15\\t1\\t1\\t8\\t313\\t241\\t43\\t11\\t96.266159\\tairflow\\n5\\t1\\t15\\t1\\t1\\t9\\t361\\t241\\t71\\t11\\t75.313789\\tefficiencies\\n4\\t1\\t15\\t1\\t2\\t0\\t87\\t261\\t326\\t14\\t-1\\t\\n5\\t1\\t15\\t1\\t2\\t1\\t87\\t265\\t47\\t10\\t95.992661\\tranging\\n5\\t1\\t15\\t1\\t2\\t2\\t138\\t261\\t30\\t11\\t96.866631\\tfrom\\n5\\t1\\t15\\t1\\t2\\t3\\t173\\t261\\t92\\t14\\t91.745483\\tapproximately\\n5\\t1\\t15\\t1\\t2\\t4\\t270\\t262\\t14\\t10\\t96.401863\\t71\\n5\\t1\\t15\\t1\\t2\\t5\\t289\\t263\\t12\\t9\\t95.880951\\tto\\n5\\t1\\t15\\t1\\t2\\t6\\t306\\t262\\t15\\t10\\t96.908066\\t86\\n5\\t1\\t15\\t1\\t2\\t7\\t326\\t261\\t32\\t11\\t95.179619\\tcubic\\n5\\t1\\t15\\t1\\t2\\t8\\t363\\t261\\t25\\t11\\t95.562523\\tfeet\\n5\\t1\\t15\\t1\\t2\\t9\\t393\\t265\\t20\\t10\\t95.562523\\tper\\n4\\t1\\t15\\t1\\t3\\t0\\t154\\t281\\t192\\t14\\t-1\\t\\n5\\t1\\t15\\t1\\t3\\t1\\t154\\t283\\t44\\t9\\t96.291420\\tminute\\n5\\t1\\t15\\t1\\t3\\t2\\t204\\t285\\t19\\t10\\t96.970291\\tper\\n5\\t1\\t15\\t1\\t3\\t3\\t230\\t271\\t26\\t31\\t82.433701\\twatt\\n5\\t1\\t15\\t1\\t3\\t4\\t261\\t283\\t11\\t9\\t82.433701\\tat\\n5\\t1\\t15\\t1\\t3\\t5\\t278\\t281\\t26\\t14\\t92.111969\\thigh\\n5\\t1\\t15\\t1\\t3\\t6\\t309\\t281\\t37\\t14\\t96.161873\\tspeed\\n2\\t1\\t16\\t0\\t0\\t0\\t27\\t311\\t446\\t2\\t-1\\t\\n3\\t1\\t16\\t1\\t0\\t0\\t27\\t311\\t446\\t2\\t-1\\t\\n4\\t1\\t16\\t1\\t1\\t0\\t27\\t311\\t446\\t2\\t-1\\t\\n5\\t1\\t16\\t1\\t1\\t1\\t27\\t311\\t446\\t2\\t95.000000\\t \\n2\\t1\\t17\\t0\\t0\\t0\\t27\\t81\\t2\\t271\\t-1\\t\\n3\\t1\\t17\\t1\\t0\\t0\\t27\\t81\\t2\\t271\\t-1\\t\\n4\\t1\\t17\\t1\\t1\\t0\\t27\\t81\\t2\\t271\\t-1\\t\\n5\\t1\\t17\\t1\\t1\\t1\\t27\\t81\\t2\\t271\\t95.000000\\t \\n2\\t1\\t18\\t0\\t0\\t0\\t109\\t327\\t279\\t11\\t-1\\t\\n3\\t1\\t18\\t1\\t0\\t0\\t109\\t327\\t279\\t11\\t-1\\t\\n4\\t1\\t18\\t1\\t1\\t0\\t109\\t327\\t279\\t11\\t-1\\t\\n5\\t1\\t18\\t1\\t1\\t1\\t109\\t327\\t102\\t11\\t92.563965\\tMoney-Saving\\n5\\t1\\t18\\t1\\t1\\t2\\t191\\t317\\t19\\t28\\t96.855453\\tTip:\\n5\\t1\\t18\\t1\\t1\\t3\\t216\\t327\\t24\\t9\\t96.007523\\tTurn\\n5\\t1\\t18\\t1\\t1\\t4\\t244\\t327\\t15\\t9\\t96.007523\\toff\\n5\\t1\\t18\\t1\\t1\\t5\\t263\\t327\\t16\\t9\\t96.141983\\tfan\\n5\\t1\\t18\\t1\\t1\\t6\\t284\\t327\\t29\\t9\\t96.141983\\twhen\\n5\\t1\\t18\\t1\\t1\\t7\\t318\\t327\\t37\\t11\\t95.249489\\tleaving\\n5\\t1\\t18\\t1\\t1\\t8\\t360\\t329\\t28\\t7\\t93.489006\\troom,\\n2\\t1\\t19\\t0\\t0\\t0\\t27\\t350\\t446\\t2\\t-1\\t\\n3\\t1\\t19\\t1\\t0\\t0\\t27\\t350\\t446\\t2\\t-1\\t\\n4\\t1\\t19\\t1\\t1\\t0\\t27\\t350\\t446\\t2\\t-1\\t\\n5\\t1\\t19\\t1\\t1\\t1\\t27\\t350\\t446\\t2\\t95.000000\\t \\n2\\t1\\t20\\t0\\t0\\t0\\t0\\t0\\t500\\t371\\t-1\\t\\n3\\t1\\t20\\t1\\t0\\t0\\t0\\t0\\t500\\t371\\t-1\\t\\n4\\t1\\t20\\t1\\t1\\t0\\t0\\t0\\t500\\t371\\t-1\\t\\n5\\t1\\t20\\t1\\t1\\t1\\t0\\t0\\t500\\t371\\t95.000000\\t \\n2\\t1\\t21\\t0\\t0\\t0\\t471\\t81\\t2\\t271\\t-1\\t\\n3\\t1\\t21\\t1\\t0\\t0\\t471\\t81\\t2\\t271\\t-1\\t\\n4\\t1\\t21\\t1\\t1\\t0\\t471\\t81\\t2\\t271\\t-1\\t\\n5\\t1\\t21\\t1\\t1\\t1\\t471\\t81\\t2\\t271\\t95.000000\\t \\n'"
      ]
     },
     "execution_count": 104,
     "metadata": {},
     "output_type": "execute_result"
    }
   ],
   "source": [
    "data1"
   ]
  },
  {
   "cell_type": "code",
   "execution_count": 106,
   "id": "25d0ac69-40f4-4f92-b926-a7fc9f502d14",
   "metadata": {},
   "outputs": [
    {
     "name": "stdout",
     "output_type": "stream",
     "text": [
      "['ENERGY', 'INFORMATION', 'at', 'High', 'Speed', 'Airflow', '4', '400', 'Cubic', 'Feet', 'Per', 'Minute', 'Electricity', 'Use', '45', 'Watts', 'excludes', 'lights', 'Airflow', 'Efficiency', '98', 'Cubic', 'Feet', 'Per', 'Minute', 'Per', 'Watt', 'Compare', '36', 'to', '48', 'ceiling', 'fans', 'have', 'airflow', 'efficiencies', 'ranging', 'from', 'approximately', '71', 'to', '86', 'cubic', 'feet', 'per', 'minute', 'per', 'watt', 'at', 'high', 'speed', 'Money', 'Saving', 'Tip', 'Turn', 'off', 'fan', 'when', 'leaving', 'room']\n"
     ]
    }
   ],
   "source": [
    "import pandas as pd\n",
    "import re\n",
    "\n",
    "# Create a pandas DataFrame from the data\n",
    "from io import StringIO\n",
    "df = pd.read_csv(StringIO(data1), sep='\\t')\n",
    "\n",
    "# Filter the rows where the confidence score (conf) is >= 0\n",
    "valid_df = df[df['conf'] >= 0]\n",
    "\n",
    "# Extract words and numbers from the text column\n",
    "words_and_numbers = valid_df['text'].apply(lambda x: re.findall(r'\\w+', x)).explode().dropna().tolist()\n",
    "\n",
    "# Print the valid words and numbers\n",
    "print(words_and_numbers)\n"
   ]
  },
  {
   "cell_type": "code",
   "execution_count": 126,
   "id": "7488f6b8-3938-42b4-a05f-8620ea9d019e",
   "metadata": {},
   "outputs": [],
   "source": [
    "import cv2\n",
    "img = cv2.imread(\"image_4.jpg\")\n",
    "gray = cv2.cvtColor(img, cv2.COLOR_BGR2GRAY)\n"
   ]
  },
  {
   "cell_type": "code",
   "execution_count": 128,
   "id": "4be2745d-e036-4a32-ad48-ff5d7cb60a7e",
   "metadata": {},
   "outputs": [],
   "source": [
    "# Apply Gaussian Blur to remove noise\n",
    "gray = cv2.GaussianBlur(gray, (5, 5), 0)\n"
   ]
  },
  {
   "cell_type": "code",
   "execution_count": 130,
   "id": "daad08aa-a403-4be9-88ac-62bef62911f8",
   "metadata": {},
   "outputs": [],
   "source": [
    "# Apply Otsu's thresholding after Gaussian filtering\n",
    "_, thresh = cv2.threshold(gray, 0, 255, cv2.THRESH_BINARY + cv2.THRESH_OTSU)\n"
   ]
  },
  {
   "cell_type": "code",
   "execution_count": 132,
   "id": "1516539d-1dde-4258-a8da-12e011a659bf",
   "metadata": {},
   "outputs": [],
   "source": [
    "# Use dilation to strengthen the text and erode to remove noise\n",
    "kernel = cv2.getStructuringElement(cv2.MORPH_RECT, (3, 3))\n",
    "dilate = cv2.dilate(thresh, kernel, iterations=1)\n",
    "erode = cv2.erode(dilate, kernel, iterations=1)\n"
   ]
  },
  {
   "cell_type": "code",
   "execution_count": 134,
   "id": "b3c83925-a7b3-485e-a38a-f0ed279f60d4",
   "metadata": {},
   "outputs": [],
   "source": [
    "# Resize the image\n",
    "img_resized = cv2.resize(thresh, None, fx=2, fy=2, interpolation=cv2.INTER_CUBIC)\n"
   ]
  },
  {
   "cell_type": "code",
   "execution_count": 136,
   "id": "1d8b8d3a-6cc2-492d-beca-a6251cbb23c3",
   "metadata": {},
   "outputs": [],
   "source": [
    "edges = cv2.Canny(gray, 100, 200)\n"
   ]
  },
  {
   "cell_type": "code",
   "execution_count": 138,
   "id": "7a7aa7c2-6e6d-44ed-91cd-e48d01fa7330",
   "metadata": {
    "scrolled": true
   },
   "outputs": [
    {
     "name": "stdout",
     "output_type": "stream",
     "text": [
      "ENERGY INFORMATION\n",
      "at High Speed\n",
      "\n",
      "Airflow Electricity Use | Airflow Efficiency\n",
      "\n",
      "4,400 45 98\n",
      "\n",
      "Cubk Feet Watts Cubic Feet Per\n",
      "Per Minute {excludes lights) | Minute Per Watt\n",
      "\n",
      "Compare 36° to 45\" coling fens have awfow ethewnces\n",
      "rangnng from approumately 71 to B6 cubs leet por\n",
      "munute per watt at high speed\n",
      "\n",
      "Tush of tan when ieaving tov:\n",
      "\n",
      "\n"
     ]
    }
   ],
   "source": [
    "import pytesseract\n",
    "from PIL import Image\n",
    "\n",
    "# Convert the OpenCV image to a format that Tesseract can understand\n",
    "preprocessed_image = Image.fromarray(thresh)\n",
    "\n",
    "# Extract text using Tesseract\n",
    "text = pytesseract.image_to_string(preprocessed_image)\n",
    "\n",
    "print(text)\n"
   ]
  },
  {
   "cell_type": "code",
   "execution_count": 140,
   "id": "4db6e4f6-2ac8-4aef-abe7-c80bb1b0993e",
   "metadata": {},
   "outputs": [
    {
     "data": {
      "text/plain": [
       "str"
      ]
     },
     "execution_count": 140,
     "metadata": {},
     "output_type": "execute_result"
    }
   ],
   "source": [
    "type(text)"
   ]
  },
  {
   "cell_type": "code",
   "execution_count": null,
   "id": "1a03fedd-a9d0-4a8f-bca5-32abe62b98c5",
   "metadata": {},
   "outputs": [],
   "source": []
  },
  {
   "cell_type": "code",
   "execution_count": null,
   "id": "0f36908a-7696-4f13-a5ed-69ec574fbe76",
   "metadata": {},
   "outputs": [],
   "source": []
  },
  {
   "cell_type": "code",
   "execution_count": null,
   "id": "0cadaf53-e3d4-4c6a-b381-66c76e7e84ab",
   "metadata": {},
   "outputs": [],
   "source": []
  },
  {
   "cell_type": "code",
   "execution_count": null,
   "id": "a8c468a8-8eb1-4198-be2c-e2c6d69244db",
   "metadata": {},
   "outputs": [],
   "source": []
  },
  {
   "cell_type": "code",
   "execution_count": null,
   "id": "43d65031-3220-4dac-8d5c-8c941f918897",
   "metadata": {},
   "outputs": [],
   "source": []
  },
  {
   "cell_type": "code",
   "execution_count": null,
   "id": "1925abd0-f18e-4aeb-b53b-e27098442f2f",
   "metadata": {},
   "outputs": [],
   "source": []
  },
  {
   "cell_type": "code",
   "execution_count": 148,
   "id": "720e9bc7-983d-4133-bc18-2aff79fda463",
   "metadata": {},
   "outputs": [
    {
     "name": "stdout",
     "output_type": "stream",
     "text": [
      "['4watt', '400watt', '45watt', '98watt', '36watt', '45watt', '71watt', '6watt']\n"
     ]
    }
   ],
   "source": [
    "import re\n",
    "\n",
    "def find_or_add_unit(input_string, selected_unit=\"watt\"):\n",
    "    # Search for all numbers followed by \"kg\"\n",
    "    kg_pattern = re.findall(r'(\\d+\\s*watt)', input_string, re.IGNORECASE)\n",
    "    \n",
    "    if kg_pattern:\n",
    "        # Return all matched numbers followed by \"kg\"\n",
    "        return kg_pattern  # e.g., [\"5kg\", \"10kg\", \"15kg\"]\n",
    "    \n",
    "    # If no \"kg\" is found, search for standalone numbers\n",
    "    number_pattern = re.findall(r'(\\d+)', input_string)\n",
    "    \n",
    "    if number_pattern:\n",
    "        # Add \"kg\" to all found numbers\n",
    "        return [num + selected_unit for num in number_pattern]  # e.g., [\"1400kg\"]\n",
    "    \n",
    "    # If no numbers found at all\n",
    "    return [\"No valid number found in the string\"]\n",
    "\n",
    "# Example usage\n",
    "input_string = text\n",
    "result = find_or_add_unit(input_string)\n",
    "print(result)\n"
   ]
  },
  {
   "cell_type": "code",
   "execution_count": null,
   "id": "b30f7390-f621-429e-be34-7a0969963fc1",
   "metadata": {},
   "outputs": [],
   "source": []
  },
  {
   "cell_type": "code",
   "execution_count": null,
   "id": "ce222875-964d-428c-8351-2f9c57a9d9e8",
   "metadata": {},
   "outputs": [],
   "source": []
  },
  {
   "cell_type": "code",
   "execution_count": 523,
   "id": "0c95aa32-ddea-46ae-a264-55098ea3a0a7",
   "metadata": {},
   "outputs": [
    {
     "name": "stdout",
     "output_type": "stream",
     "text": [
      "[['HIGH', 'S:'], ['PSYLLIUM'], ['HUSK'], ['1400nc', '|']]\n"
     ]
    }
   ],
   "source": [
    "\n",
    "# Split the text into lines\n",
    "lines = text.strip().split('\\n')\n",
    "\n",
    "# Initialize the 2D list\n",
    "two_d_list = []\n",
    "\n",
    "for line in lines:\n",
    "    # Strip extra spaces and split line into words\n",
    "    words = line.strip().split()\n",
    "    if words:  # Check if line is not empty\n",
    "        two_d_list.append(words)\n",
    "\n",
    "# Print the 2D list\n",
    "print(two_d_list)"
   ]
  },
  {
   "cell_type": "code",
   "execution_count": 527,
   "id": "14221ffd-445c-44f7-98fa-2533bb533c03",
   "metadata": {},
   "outputs": [
    {
     "name": "stdout",
     "output_type": "stream",
     "text": [
      "[]\n"
     ]
    }
   ],
   "source": [
    "import re\n",
    "\n",
    "def extract_cm_values(strings):\n",
    "    cm_values = []\n",
    "    # Define a regular expression to match patterns like \"10cm\", \"15-25cm\", \"25-45cm\"\n",
    "    cm_pattern = r'\\d+[-]?\\d*cm'\n",
    "    # Define a regular expression to match numeric values not followed by \"cm\"\n",
    "    num_pattern = r'\\b\\d+\\b'\n",
    "\n",
    "    # Check if any string contains 'cm'\n",
    "    contains_cm = any(re.search(cm_pattern, string) for string in strings)\n",
    "\n",
    "    for string in strings:\n",
    "        # If 'cm' values are found, extract and return only 'cm' values\n",
    "        if contains_cm:\n",
    "            cm_matches = re.findall(cm_pattern, string)\n",
    "            cm_values.extend(cm_matches)\n",
    "        else:\n",
    "            # If no 'cm' values are found, handle numeric values (not required based on current needs)\n",
    "            num_matches = re.findall(num_pattern, string)\n",
    "            for num in num_matches:\n",
    "                cm_values.append(f'{num}cm')\n",
    "\n",
    "    return cm_values\n",
    "\n",
    "# Flatten the 2D list into a 1D list of strings\n",
    "flattened_strings = [item for sublist in two_d_list for item in sublist]\n",
    "\n",
    "# Extract cm values\n",
    "cm_values = extract_cm_values(flattened_strings)\n",
    "\n",
    "# Print the extracted cm values\n",
    "print(cm_values)"
   ]
  },
  {
   "cell_type": "code",
   "execution_count": 533,
   "id": "467dd2dc-f91f-4e65-a246-2214b3f6c35a",
   "metadata": {},
   "outputs": [
    {
     "name": "stdout",
     "output_type": "stream",
     "text": [
      "[]\n"
     ]
    }
   ],
   "source": [
    "import re\n",
    "\n",
    "def extract_cm_values(strings):\n",
    "    cm_values = []\n",
    "    # Define a regular expression to match patterns like \"10cm\", \"15-25cm\", \"25-45cm\"\n",
    "    cm_pattern = r'\\d+[-]?\\d*watt'\n",
    "    # Define a regular expression to match numeric values not followed by \"cm\"\n",
    "    num_pattern = r'\\b\\d+\\b'\n",
    "\n",
    "    # Check if any string contains 'cm'\n",
    "    contains_cm = any(re.search(cm_pattern, string) for string in strings)\n",
    "\n",
    "    for string in strings:\n",
    "        # If 'cm' values are found, extract and return only 'cm' values\n",
    "        if contains_cm:\n",
    "            cm_matches = re.findall(cm_pattern, string)\n",
    "            cm_values.extend(cm_matches)\n",
    "        else:\n",
    "            # If no 'cm' values are found, handle numeric values (not required based on current needs)\n",
    "            num_matches = re.findall(num_pattern, string)\n",
    "            for num in num_matches:\n",
    "                cm_values.append(f'{num}watt')\n",
    "\n",
    "    return cm_values\n",
    "\n",
    "# Flatten the 2D list into a 1D list of strings\n",
    "flattened_strings = [item for sublist in two_d_list for item in sublist]\n",
    "\n",
    "# Extract cm values\n",
    "cm_values = extract_cm_values(flattened_strings)\n",
    "\n",
    "# Print the extracted cm values\n",
    "print(cm_values)"
   ]
  },
  {
   "cell_type": "code",
   "execution_count": 487,
   "id": "b0838a54-d6ce-489a-b4bd-7c804e180cac",
   "metadata": {},
   "outputs": [
    {
     "name": "stdout",
     "output_type": "stream",
     "text": [
      "The nearest numeric value to the word containing \"watt\" is Search key not found in the list..\n"
     ]
    }
   ],
   "source": [
    "import re\n",
    "\n",
    "def is_numeric(s):\n",
    "    \"\"\"Check if the string contains numeric characters.\"\"\"\n",
    "    return re.search(r'\\d+', s) is not None\n",
    "\n",
    "def find_nearest_numeric_in_list(word_list, search_key):\n",
    "    \"\"\"Find the nearest numeric value in the list based on the position of the search key.\"\"\"\n",
    "    # Find the position of the search key\n",
    "    search_key_position = None\n",
    "    for i, word in enumerate(word_list):\n",
    "        if search_key in word:\n",
    "            search_key_position = i\n",
    "            break\n",
    "\n",
    "    if search_key_position is None:\n",
    "        return \"Search key not found in the list.\"\n",
    "\n",
    "    nearest_value = None\n",
    "    min_distance = float('inf')\n",
    "\n",
    "    # Search left of the search key\n",
    "    for i in range(search_key_position - 1, -1, -1):\n",
    "        word = word_list[i]\n",
    "        if is_numeric(word):\n",
    "            num_value = word\n",
    "            distance = search_key_position - i  # Distance between the indices\n",
    "            if distance < min_distance:\n",
    "                min_distance = distance\n",
    "                nearest_value = num_value\n",
    "\n",
    "    return nearest_value\n",
    "\n",
    "# Define search key\n",
    "search_key = 'watt'\n",
    "\n",
    "# Find the nearest numeric value\n",
    "nearest_value = find_nearest_numeric_in_list(words_and_numbers, search_key)\n",
    "print(f'The nearest numeric value to the word containing \"{search_key}\" is {nearest_value}.')"
   ]
  },
  {
   "cell_type": "code",
   "execution_count": 489,
   "id": "6ef421f8-c7a7-428c-967b-104d3de10d14",
   "metadata": {},
   "outputs": [
    {
     "name": "stdout",
     "output_type": "stream",
     "text": [
      "The nearest numeric value to \"watt\" is Search key not found in the grid..\n"
     ]
    }
   ],
   "source": [
    "import re\n",
    "\n",
    "def preprocess_text(text):\n",
    "    \"\"\"Clean and format text.\"\"\"\n",
    "    text = re.sub(r'\\s+', ' ', text)  # Replace multiple spaces with a single space\n",
    "    return text.strip()\n",
    "\n",
    "def parse_text_to_grid(text):\n",
    "    \"\"\"Convert text into a 2D grid.\"\"\"\n",
    "    rows = text.split('\\n')\n",
    "    grid = [re.split(r'\\s+', row) for row in rows]\n",
    "    return grid\n",
    "\n",
    "def is_numeric(s):\n",
    "    \"\"\"Check if the string is numeric.\"\"\"\n",
    "    return s.replace('.', '', 1).isdigit()\n",
    "\n",
    "def find_nearest_numeric(grid, search_key):\n",
    "    \"\"\"Find the nearest numeric value to the left or above the search key based on position.\"\"\"\n",
    "    # Find the position of the search key in the grid\n",
    "    search_key_position = None\n",
    "    for i, row in enumerate(grid):\n",
    "        if search_key in row:\n",
    "            search_key_position = (i, row.index(search_key))\n",
    "            break\n",
    "\n",
    "    if not search_key_position:\n",
    "        return \"Search key not found in the grid.\"\n",
    "\n",
    "    row_index, col_index = search_key_position\n",
    "    nearest_value = None\n",
    "    min_distance = float('inf')\n",
    "\n",
    "    # Check cells to the left in the same row\n",
    "    for col in range(col_index):\n",
    "        value = grid[row_index][col]\n",
    "        if is_numeric(value):\n",
    "            num_value = float(value)\n",
    "            # Calculate distance based on row and column index differences\n",
    "            distance = (col_index - col) + (row_index - row_index)  # Distance is only horizontal here\n",
    "            if distance < min_distance:\n",
    "                min_distance = distance\n",
    "                nearest_value = value\n",
    "\n",
    "    # Check cells above in the same column\n",
    "    for row in range(row_index):\n",
    "        value = grid[row][col_index]\n",
    "        if is_numeric(value):\n",
    "            num_value = float(value)\n",
    "            # Calculate distance based on row and column index differences\n",
    "            distance = (row_index - row) + (col_index - col_index)  # Distance is only vertical here\n",
    "            if distance < min_distance:\n",
    "                min_distance = distance\n",
    "                nearest_value = value\n",
    "\n",
    "    return nearest_value\n",
    "\n",
    "# Preprocess and parse the text\n",
    "cleaned_text = preprocess_text(text)\n",
    "grid = parse_text_to_grid(cleaned_text)\n",
    "\n",
    "# Define search key\n",
    "search_key = 'watt'\n",
    "\n",
    "# Find the nearest numeric value\n",
    "nearest_value = find_nearest_numeric(grid, search_key)\n",
    "print(f'The nearest numeric value to \"{search_key}\" is {nearest_value}.')"
   ]
  }
 ],
 "metadata": {
  "kernelspec": {
   "display_name": "Python 3 (ipykernel)",
   "language": "python",
   "name": "python3"
  },
  "language_info": {
   "codemirror_mode": {
    "name": "ipython",
    "version": 3
   },
   "file_extension": ".py",
   "mimetype": "text/x-python",
   "name": "python",
   "nbconvert_exporter": "python",
   "pygments_lexer": "ipython3",
   "version": "3.11.7"
  }
 },
 "nbformat": 4,
 "nbformat_minor": 5
}
