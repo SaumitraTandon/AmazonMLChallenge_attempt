{
 "cells": [
  {
   "cell_type": "code",
   "execution_count": 2,
   "id": "cb24c5c7-2aec-4a3f-80ab-d826b5451641",
   "metadata": {},
   "outputs": [],
   "source": [
    "import cv2 \n",
    "import pytesseract"
   ]
  },
  {
   "cell_type": "code",
   "execution_count": 4,
   "id": "972d8a0f-e818-40a6-88c8-5a2beb20dadf",
   "metadata": {},
   "outputs": [],
   "source": [
    "pytesseract.pytesseract.tesseract_cmd = r'C:\\Program Files (x86)\\Tesseract-OCR\\tesseract.exe'"
   ]
  },
  {
   "cell_type": "code",
   "execution_count": 6,
   "id": "576e3527-fc91-4f4f-89c0-09364cd948f5",
   "metadata": {},
   "outputs": [],
   "source": [
    "img1 = cv2.imread(\"D:\\AmazonMLChallenge.py\\preprocessed_images (2)\\preprocessed_images\\preprocessed_514pScQdlCL.jpg\")"
   ]
  },
  {
   "cell_type": "code",
   "execution_count": 8,
   "id": "a10ee25e-5bb1-4c7e-b8aa-308202b41f32",
   "metadata": {},
   "outputs": [],
   "source": [
    "data1 = pytesseract.image_to_data(img1)"
   ]
  },
  {
   "cell_type": "code",
   "execution_count": 10,
   "id": "56996da3-7fc9-40af-9cd8-c61772bc906d",
   "metadata": {},
   "outputs": [
    {
     "data": {
      "text/plain": [
       "'level\\tpage_num\\tblock_num\\tpar_num\\tline_num\\tword_num\\tleft\\ttop\\twidth\\theight\\tconf\\ttext\\n1\\t1\\t0\\t0\\t0\\t0\\t0\\t0\\t500\\t500\\t-1\\t\\n2\\t1\\t1\\t0\\t0\\t0\\t111\\t0\\t389\\t92\\t-1\\t\\n3\\t1\\t1\\t1\\t0\\t0\\t111\\t0\\t389\\t92\\t-1\\t\\n4\\t1\\t1\\t1\\t1\\t0\\t111\\t0\\t389\\t92\\t-1\\t\\n5\\t1\\t1\\t1\\t1\\t1\\t111\\t0\\t389\\t92\\t95.000000\\t   \\n5\\t1\\t1\\t1\\t1\\t2\\t427\\t64\\t73\\t25\\t95.000000\\t \\n2\\t1\\t2\\t0\\t0\\t0\\t176\\t70\\t251\\t31\\t-1\\t\\n3\\t1\\t2\\t1\\t0\\t0\\t176\\t70\\t251\\t31\\t-1\\t\\n4\\t1\\t2\\t1\\t1\\t0\\t176\\t70\\t251\\t13\\t-1\\t\\n5\\t1\\t2\\t1\\t1\\t1\\t176\\t70\\t47\\t13\\t96.158279\\tprevent\\n5\\t1\\t2\\t1\\t1\\t2\\t227\\t70\\t55\\t10\\t96.569710\\telectrical\\n5\\t1\\t2\\t1\\t1\\t3\\t287\\t70\\t57\\t12\\t88.293442\\toverload,\\n5\\t1\\t2\\t1\\t1\\t4\\t350\\t70\\t56\\t10\\t96.318901\\tuniversal\\n5\\t1\\t2\\t1\\t1\\t5\\t410\\t70\\t17\\t10\\t96.760269\\tfor\\n4\\t1\\t2\\t1\\t2\\t0\\t179\\t85\\t143\\t16\\t-1\\t\\n5\\t1\\t2\\t1\\t2\\t1\\t179\\t85\\t24\\t10\\t59.762299\\t412V\\n5\\t1\\t2\\t1\\t2\\t2\\t207\\t87\\t38\\t12\\t89.524155\\tpower\\n5\\t1\\t2\\t1\\t2\\t3\\t249\\t87\\t42\\t14\\t94.316422\\tsource\\n5\\t1\\t2\\t1\\t2\\t4\\t296\\t87\\t26\\t9\\t94.259926\\tcars\\n2\\t1\\t3\\t0\\t0\\t0\\t0\\t103\\t500\\t397\\t-1\\t\\n3\\t1\\t3\\t1\\t0\\t0\\t0\\t103\\t500\\t397\\t-1\\t\\n4\\t1\\t3\\t1\\t1\\t0\\t0\\t103\\t500\\t397\\t-1\\t\\n5\\t1\\t3\\t1\\t1\\t1\\t0\\t103\\t500\\t397\\t95.000000\\t \\n'"
      ]
     },
     "execution_count": 10,
     "metadata": {},
     "output_type": "execute_result"
    }
   ],
   "source": [
    "data1"
   ]
  },
  {
   "cell_type": "code",
   "execution_count": 12,
   "id": "6c6b75de-aaa6-4c40-a32b-7332bcf21d9c",
   "metadata": {},
   "outputs": [
    {
     "name": "stdout",
     "output_type": "stream",
     "text": [
      "['prevent', 'electrical', 'overload', 'universal', 'for', '412V', 'power', 'source', 'cars']\n"
     ]
    }
   ],
   "source": [
    "import pandas as pd\n",
    "import re\n",
    "\n",
    "# Create a pandas DataFrame from the data\n",
    "from io import StringIO\n",
    "df = pd.read_csv(StringIO(data1), sep='\\t')\n",
    "\n",
    "# Filter the rows where the confidence score (conf) is >= 0\n",
    "valid_df = df[df['conf'] >= 0]\n",
    "\n",
    "# Extract words and numbers from the text column\n",
    "words_and_numbers = valid_df['text'].apply(lambda x: re.findall(r'\\w+', x)).explode().dropna().tolist()\n",
    "\n",
    "# Print the valid words and numbers\n",
    "print(words_and_numbers)"
   ]
  },
  {
   "cell_type": "code",
   "execution_count": 18,
   "id": "67b3c2f9-37c4-4887-ab27-6fc036a55c26",
   "metadata": {},
   "outputs": [
    {
     "name": "stdout",
     "output_type": "stream",
     "text": [
      "The nearest numeric value to the word containing \"V\" is None.\n"
     ]
    }
   ],
   "source": [
    "import re\n",
    "\n",
    "def is_numeric(s):\n",
    "    \"\"\"Check if the string contains numeric characters.\"\"\"\n",
    "    return re.search(r'\\d+', s) is not None\n",
    "\n",
    "def find_nearest_numeric_in_list(word_list, search_key):\n",
    "    \"\"\"Find the nearest numeric value in the list based on the position of the search key.\"\"\"\n",
    "    # Find the position of the search key\n",
    "    search_key_position = None\n",
    "    for i, word in enumerate(word_list):\n",
    "        if search_key in word:\n",
    "            search_key_position = i\n",
    "            break\n",
    "\n",
    "    if search_key_position is None:\n",
    "        return \"Search key not found in the list.\"\n",
    "\n",
    "    nearest_value = None\n",
    "    min_distance = float('inf')\n",
    "\n",
    "    # Search left of the search key\n",
    "    for i in range(search_key_position - 1, -1, -1):\n",
    "        word = word_list[i]\n",
    "        if is_numeric(word):\n",
    "            num_value = word\n",
    "            distance = search_key_position - i  # Distance between the indices\n",
    "            if distance < min_distance:\n",
    "                min_distance = distance\n",
    "                nearest_value = num_value\n",
    "\n",
    "    return nearest_value\n",
    "\n",
    "# Define search key\n",
    "search_key = 'V'\n",
    "\n",
    "# Find the nearest numeric value\n",
    "nearest_value = find_nearest_numeric_in_list(words_and_numbers, search_key)\n",
    "print(f'The nearest numeric value to the word containing \"{search_key}\" is {nearest_value}.')"
   ]
  },
  {
   "cell_type": "code",
   "execution_count": 20,
   "id": "848e5d42-c4e8-46f6-bb15-8f47bb08cdea",
   "metadata": {},
   "outputs": [
    {
     "ename": "SyntaxError",
     "evalue": "unterminated string literal (detected at line 65) (1805739947.py, line 65)",
     "output_type": "error",
     "traceback": [
      "\u001b[1;36m  Cell \u001b[1;32mIn[20], line 65\u001b[1;36m\u001b[0m\n\u001b[1;33m    print(f'The nearest numeric value to '{search_key}' is {nearest_value}.\")\u001b[0m\n\u001b[1;37m                                                      ^\u001b[0m\n\u001b[1;31mSyntaxError\u001b[0m\u001b[1;31m:\u001b[0m unterminated string literal (detected at line 65)\n"
     ]
    }
   ],
   "source": [
    "import re\n",
    "\n",
    "def preprocess_text(text):\n",
    "    \"\"\"Clean and format text by removing extra spaces.\"\"\"\n",
    "    text = re.sub(r'\\s+', ' ', text)  # Replace multiple spaces with a single space\n",
    "    return text.strip()\n",
    "\n",
    "def parse_text_to_grid(text):\n",
    "    \"\"\"Convert text into a 2D grid by splitting lines and rows.\"\"\"\n",
    "    rows = text.split('\\n')\n",
    "    grid = [re.split(r'\\s+', row) for row in rows]\n",
    "    return grid\n",
    "\n",
    "def is_numeric(s):\n",
    "    \"\"\"Check if the string is numeric, considering possible floats.\"\"\"\n",
    "    return s.replace('.', '', 1).isdigit()\n",
    "\n",
    "def find_nearest_numeric(grid, search_key):\n",
    "    \"\"\"Find the nearest numeric value to the left or above the search key.\"\"\"\n",
    "    # Find the position of the search key in the grid\n",
    "    search_key_position = None\n",
    "    for i, row in enumerate(grid):\n",
    "        if search_key in row:\n",
    "            search_key_position = (i, row.index(search_key))\n",
    "            break\n",
    "\n",
    "    if not search_key_position:\n",
    "        return \"Search key not found in the grid.\"\n",
    "\n",
    "    row_index, col_index = search_key_position\n",
    "    nearest_value = None\n",
    "    min_distance = float('inf')\n",
    "\n",
    "    # Check cells to the left in the same row\n",
    "    for col in range(col_index - 1, -1, -1):\n",
    "        value = grid[row_index][col]\n",
    "        if is_numeric(value):\n",
    "            num_value = float(value)\n",
    "            distance = col_index - col  # Horizontal distance\n",
    "            if distance < min_distance:\n",
    "                min_distance = distance\n",
    "                nearest_value = value\n",
    "\n",
    "    # Check cells above in the same column\n",
    "    for row in range(row_index - 1, -1, -1):\n",
    "        value = grid[row][col_index]\n",
    "        if is_numeric(value):\n",
    "            num_value = float(value)\n",
    "            distance = row_index - row  # Vertical distance\n",
    "            if distance < min_distance:\n",
    "                min_distance = distance\n",
    "                nearest_value = value\n",
    "\n",
    "    return nearest_value if nearest_value is not None else \"No numeric value found.\"\n",
    "\n",
    "# Preprocess and parse the text\n",
    "cleaned_text = preprocess_text(words_and_numbers)\n",
    "grid = parse_text_to_grid(cleaned_text)\n",
    "\n",
    "# Define search key\n",
    "search_key = 'watt'\n",
    "\n",
    "# Find the nearest numeric value to the left or above the search key\n",
    "nearest_value = find_nearest_numeric(grid, search_key)\n",
    "print(f'The nearest numeric value to '{search_key}' is {nearest_value}.\")"
   ]
  },
  {
   "cell_type": "code",
   "execution_count": null,
   "id": "6fd1e2cb-cb86-4414-adb9-ef6c9225c14c",
   "metadata": {},
   "outputs": [],
   "source": []
  },
  {
   "cell_type": "code",
   "execution_count": null,
   "id": "6b045c59-a5e6-420f-8b23-3e4f7603cecf",
   "metadata": {},
   "outputs": [],
   "source": []
  }
 ],
 "metadata": {
  "kernelspec": {
   "display_name": "Python 3 (ipykernel)",
   "language": "python",
   "name": "python3"
  },
  "language_info": {
   "codemirror_mode": {
    "name": "ipython",
    "version": 3
   },
   "file_extension": ".py",
   "mimetype": "text/x-python",
   "name": "python",
   "nbconvert_exporter": "python",
   "pygments_lexer": "ipython3",
   "version": "3.11.7"
  }
 },
 "nbformat": 4,
 "nbformat_minor": 5
}
