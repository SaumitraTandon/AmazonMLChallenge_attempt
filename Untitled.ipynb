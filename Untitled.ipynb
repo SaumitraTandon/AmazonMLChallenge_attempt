{
 "cells": [
  {
   "cell_type": "code",
   "execution_count": 2,
   "id": "88a95787-5434-4906-aba2-aad96efe51bf",
   "metadata": {},
   "outputs": [],
   "source": [
    "import pandas as pd\n",
    "import numpy as np"
   ]
  },
  {
   "cell_type": "code",
   "execution_count": 4,
   "id": "43daa47a-6102-4008-9aa6-88fb801ce1ac",
   "metadata": {},
   "outputs": [],
   "source": [
    "dataset = pd.read_csv(\"train.csv\")\n",
    "dataset = pd.DataFrame(dataset)"
   ]
  },
  {
   "cell_type": "code",
   "execution_count": 8,
   "id": "cbf65a93-73a1-4304-b18c-079a0b2c1af7",
   "metadata": {},
   "outputs": [],
   "source": [
    "import pandas as pd\n",
    "\n",
    "# Load the dataset\n",
    "df = pd.read_csv('train.csv')\n",
    "\n",
    "# Randomly sample 131,187 rows from the dataframe\n",
    "sampled_df = df.sample(n=131187, random_state=1)[['entity_value']].reset_index()\n",
    "\n",
    "# Save the sampled dataframe to a new CSV file\n",
    "sampled_df.to_csv('random_sampled_entity_values_4.csv', index=False)\n"
   ]
  },
  {
   "cell_type": "code",
   "execution_count": 14,
   "id": "7e6d937e-69f5-4bc1-842d-4c3ecd9a1600",
   "metadata": {},
   "outputs": [
    {
     "name": "stdout",
     "output_type": "stream",
     "text": [
      "Index updated successfully. Results saved to updated_test__5.csv\n"
     ]
    }
   ],
   "source": [
    "import pandas as pd\n",
    "\n",
    "def update_index_only(input_csv_path, reference_csv_path, output_csv_path):\n",
    "    # Load the original CSV file\n",
    "    original_df = pd.read_csv(input_csv_path)\n",
    "    \n",
    "    # Load the file with the new index\n",
    "    reference_df = pd.read_csv(reference_csv_path)\n",
    "    \n",
    "    # Check if 'index' column exists in reference file\n",
    "    if 'index' not in reference_df.columns:\n",
    "        raise ValueError(\"The reference CSV file does not contain an 'index' column.\")\n",
    "    \n",
    "    # Extract the index column from the reference DataFrame\n",
    "    new_index = reference_df['index']\n",
    "    \n",
    "    # Ensure the length of the new index matches the length of the original DataFrame\n",
    "    if len(new_index) != len(original_df):\n",
    "        raise ValueError(\"The length of the new index does not match the length of the original data.\")\n",
    "    \n",
    "    # Set the new index in the original DataFrame\n",
    "    original_df.index = new_index\n",
    "    \n",
    "    # Save the DataFrame with the new index to a new CSV file\n",
    "    original_df.to_csv(output_csv_path, index_label='index')\n",
    "    \n",
    "    print(f\"Index updated successfully. Results saved to {output_csv_path}\")\n",
    "\n",
    "# Example usage\n",
    "input_csv_path = 'random_sampled_entity_values_4.csv'\n",
    "reference_csv_path = 'output_final.csv'\n",
    "output_csv_path = 'updated_test__5.csv'\n",
    "\n",
    "update_index_only(input_csv_path, reference_csv_path, output_csv_path)\n"
   ]
  },
  {
   "cell_type": "code",
   "execution_count": 16,
   "id": "9e8fd43e-f616-4e25-8cb3-1f7d4973e0a2",
   "metadata": {},
   "outputs": [],
   "source": [
    "df = pd.read_csv(\"updated_test__5.csv\")"
   ]
  },
  {
   "cell_type": "code",
   "execution_count": 20,
   "id": "ee0c8239-4a96-4d46-88f9-24ec09b8eca6",
   "metadata": {},
   "outputs": [],
   "source": [
    "df = pd.DataFrame(df)"
   ]
  },
  {
   "cell_type": "code",
   "execution_count": 22,
   "id": "48f4e20d-0be5-4f8f-80e6-dda887d5567a",
   "metadata": {},
   "outputs": [],
   "source": [
    "df = df.drop(df.columns[1], axis=1)"
   ]
  },
  {
   "cell_type": "code",
   "execution_count": 24,
   "id": "6a895f3e-4460-4102-a422-4f9c9b5a64e8",
   "metadata": {},
   "outputs": [
    {
     "data": {
      "text/html": [
       "Path (<tt>.csv</tt>) doesn't exist. It may still be in the process of being generated, or you may have the incorrect path."
      ],
      "text/plain": [
       "D:\\AmazonMLChallenge.py\\.csv"
      ]
     },
     "execution_count": 24,
     "metadata": {},
     "output_type": "execute_result"
    }
   ],
   "source": [
    "# Save the DataFrame to a CSV file\n",
    "df.to_csv('updated_test__5.csv', index=False)\n",
    "\n",
    "# For download in Jupyter Notebook\n",
    "from IPython.display import FileLink\n",
    "FileLink('.csv')"
   ]
  },
  {
   "cell_type": "code",
   "execution_count": null,
   "id": "40a059f0-0d91-4ae0-8f12-636affb8233e",
   "metadata": {},
   "outputs": [],
   "source": []
  },
  {
   "cell_type": "code",
   "execution_count": null,
   "id": "949667de-b8df-41cb-9df4-9b3c877288b6",
   "metadata": {},
   "outputs": [],
   "source": []
  },
  {
   "cell_type": "code",
   "execution_count": null,
   "id": "094b71ff-63e5-45a3-9fda-25f897abcac3",
   "metadata": {},
   "outputs": [],
   "source": []
  },
  {
   "cell_type": "code",
   "execution_count": null,
   "id": "c530bf3a-cd12-4f29-bb3b-d5cf4ed3c562",
   "metadata": {},
   "outputs": [],
   "source": []
  },
  {
   "cell_type": "code",
   "execution_count": null,
   "id": "d539e772-a52f-4f47-abd9-01e704b108ad",
   "metadata": {},
   "outputs": [],
   "source": []
  },
  {
   "cell_type": "code",
   "execution_count": null,
   "id": "acfaaada-d800-4dba-b951-f78449ba933b",
   "metadata": {},
   "outputs": [],
   "source": []
  },
  {
   "cell_type": "code",
   "execution_count": null,
   "id": "2c9c7802-b5b1-46b5-80b2-3ce7c4094c7d",
   "metadata": {},
   "outputs": [],
   "source": []
  },
  {
   "cell_type": "code",
   "execution_count": null,
   "id": "28b92ac2-9bf9-4a46-8db1-7ba88a7f5799",
   "metadata": {},
   "outputs": [],
   "source": []
  },
  {
   "cell_type": "code",
   "execution_count": null,
   "id": "f6822269-2121-4138-bdc8-1b600618fa8e",
   "metadata": {},
   "outputs": [],
   "source": []
  },
  {
   "cell_type": "code",
   "execution_count": null,
   "id": "1f0b0556-8a2b-4277-8c64-6d8034340cd5",
   "metadata": {},
   "outputs": [],
   "source": []
  },
  {
   "cell_type": "code",
   "execution_count": null,
   "id": "7ea14680-885f-44a1-959a-1322b9e079a1",
   "metadata": {},
   "outputs": [],
   "source": []
  },
  {
   "cell_type": "code",
   "execution_count": null,
   "id": "6a569024-ce08-450d-a633-14fefafca4b5",
   "metadata": {},
   "outputs": [],
   "source": []
  },
  {
   "cell_type": "code",
   "execution_count": null,
   "id": "97e7472c-6fc8-4a92-8a52-894a7b3247a2",
   "metadata": {},
   "outputs": [],
   "source": []
  },
  {
   "cell_type": "code",
   "execution_count": null,
   "id": "cf6812f2-e92c-4625-bd7c-91b84bc31922",
   "metadata": {},
   "outputs": [],
   "source": []
  },
  {
   "cell_type": "code",
   "execution_count": null,
   "id": "0b059103-ecaa-44b4-a948-0131859e371b",
   "metadata": {},
   "outputs": [],
   "source": []
  },
  {
   "cell_type": "code",
   "execution_count": null,
   "id": "c06128a3-f0f0-4469-88de-5a271e70d6cd",
   "metadata": {},
   "outputs": [],
   "source": []
  },
  {
   "cell_type": "code",
   "execution_count": null,
   "id": "a4956656-9edd-4b29-9a6b-f9904fca7ca0",
   "metadata": {},
   "outputs": [],
   "source": []
  },
  {
   "cell_type": "code",
   "execution_count": null,
   "id": "7c4796e3-2742-499d-a756-79c6d1e326d1",
   "metadata": {},
   "outputs": [],
   "source": []
  },
  {
   "cell_type": "code",
   "execution_count": null,
   "id": "d6199056-919f-4716-bad5-652e1a46aeb5",
   "metadata": {},
   "outputs": [],
   "source": []
  },
  {
   "cell_type": "code",
   "execution_count": null,
   "id": "97935b99-4e9f-47a2-a1aa-d4646afa2fd9",
   "metadata": {},
   "outputs": [],
   "source": []
  },
  {
   "cell_type": "code",
   "execution_count": null,
   "id": "b8660ee2-26fc-4764-9fb2-9d63d4ca7d9f",
   "metadata": {},
   "outputs": [],
   "source": []
  },
  {
   "cell_type": "code",
   "execution_count": null,
   "id": "b83e4619-79a1-4b47-801b-dfc42f4d5ebc",
   "metadata": {},
   "outputs": [],
   "source": []
  },
  {
   "cell_type": "code",
   "execution_count": null,
   "id": "ac5ca0f4-f412-4188-8c2f-afa032ee1d72",
   "metadata": {},
   "outputs": [],
   "source": []
  },
  {
   "cell_type": "code",
   "execution_count": null,
   "id": "0a3eeb9d-5a85-477a-8885-4c6a80bc5dd7",
   "metadata": {},
   "outputs": [],
   "source": []
  },
  {
   "cell_type": "code",
   "execution_count": null,
   "id": "9a7d3882-205c-4474-ae0b-037a10a60572",
   "metadata": {},
   "outputs": [],
   "source": []
  },
  {
   "cell_type": "code",
   "execution_count": null,
   "id": "3fa3a5a8-22f9-4ce5-b826-215e63f9f1a8",
   "metadata": {},
   "outputs": [],
   "source": []
  },
  {
   "cell_type": "code",
   "execution_count": null,
   "id": "fe78e0ff-b41b-4b4a-8481-e72549147e1e",
   "metadata": {},
   "outputs": [],
   "source": []
  },
  {
   "cell_type": "code",
   "execution_count": null,
   "id": "287d23f8-bcba-4778-9d7f-21256dc09061",
   "metadata": {},
   "outputs": [],
   "source": []
  },
  {
   "cell_type": "code",
   "execution_count": null,
   "id": "b6fc2303-888b-4a09-bb07-c5ff478d89ba",
   "metadata": {},
   "outputs": [],
   "source": []
  },
  {
   "cell_type": "code",
   "execution_count": null,
   "id": "ecd3994e-94d1-43b4-92a6-3017afaddc81",
   "metadata": {},
   "outputs": [],
   "source": []
  },
  {
   "cell_type": "code",
   "execution_count": null,
   "id": "6800673c-0af5-45dd-b501-1b83fa517b72",
   "metadata": {},
   "outputs": [],
   "source": []
  },
  {
   "cell_type": "code",
   "execution_count": null,
   "id": "684568f0-3e3f-4efc-af9c-f73db171738a",
   "metadata": {},
   "outputs": [],
   "source": []
  },
  {
   "cell_type": "code",
   "execution_count": null,
   "id": "4298eb8e-ac69-47fc-9359-2003a8b50183",
   "metadata": {},
   "outputs": [],
   "source": []
  },
  {
   "cell_type": "code",
   "execution_count": null,
   "id": "839853b0-1814-4038-98e1-1c2762b8ea2e",
   "metadata": {},
   "outputs": [],
   "source": []
  },
  {
   "cell_type": "code",
   "execution_count": null,
   "id": "c0ee4c31-0184-4b54-9234-3674b79f63f0",
   "metadata": {},
   "outputs": [],
   "source": []
  },
  {
   "cell_type": "code",
   "execution_count": null,
   "id": "be2813fd-cf20-4121-a222-8dc70f5c9453",
   "metadata": {},
   "outputs": [],
   "source": []
  },
  {
   "cell_type": "code",
   "execution_count": null,
   "id": "e8af5076-c390-492b-a58a-4e352fea3cfe",
   "metadata": {},
   "outputs": [],
   "source": []
  },
  {
   "cell_type": "code",
   "execution_count": null,
   "id": "544e32ce-6707-4cb7-acc7-e9356b1c3894",
   "metadata": {},
   "outputs": [],
   "source": []
  },
  {
   "cell_type": "code",
   "execution_count": null,
   "id": "264f2c1e-12a0-424c-8038-137de1f61ba3",
   "metadata": {},
   "outputs": [],
   "source": []
  },
  {
   "cell_type": "code",
   "execution_count": null,
   "id": "a42edb7b-eb5c-4299-a3ac-1be4aa573e94",
   "metadata": {},
   "outputs": [],
   "source": []
  },
  {
   "cell_type": "code",
   "execution_count": null,
   "id": "e8770e45-cd47-4852-80ae-c2da7b7d253f",
   "metadata": {},
   "outputs": [],
   "source": []
  },
  {
   "cell_type": "code",
   "execution_count": null,
   "id": "f3aa9117-afe6-4951-b7d8-372b3d32fb06",
   "metadata": {},
   "outputs": [],
   "source": []
  },
  {
   "cell_type": "code",
   "execution_count": null,
   "id": "f2834bfb-d5e1-4578-9516-5033e53449cb",
   "metadata": {},
   "outputs": [],
   "source": []
  },
  {
   "cell_type": "code",
   "execution_count": null,
   "id": "a2dd14d7-c808-4f9a-9db3-dee451ba46c7",
   "metadata": {},
   "outputs": [],
   "source": []
  },
  {
   "cell_type": "code",
   "execution_count": null,
   "id": "4410444b-6dc7-41d5-adc1-92c2d7d6cc59",
   "metadata": {},
   "outputs": [],
   "source": []
  },
  {
   "cell_type": "code",
   "execution_count": null,
   "id": "1b72b86d-a89f-4aba-89e0-278d7ae74e7e",
   "metadata": {},
   "outputs": [],
   "source": []
  },
  {
   "cell_type": "code",
   "execution_count": null,
   "id": "978eab64-5342-4b9b-b95b-4c39e6680449",
   "metadata": {},
   "outputs": [],
   "source": []
  },
  {
   "cell_type": "code",
   "execution_count": null,
   "id": "e9378af0-982a-474d-98e0-3647d160e118",
   "metadata": {},
   "outputs": [],
   "source": []
  },
  {
   "cell_type": "code",
   "execution_count": null,
   "id": "7c94bd25-502f-4e6a-98af-02f5a59e9075",
   "metadata": {},
   "outputs": [],
   "source": []
  },
  {
   "cell_type": "code",
   "execution_count": null,
   "id": "751d9383-cbe2-4f0d-b19d-c6ca9bf997be",
   "metadata": {},
   "outputs": [],
   "source": []
  },
  {
   "cell_type": "code",
   "execution_count": null,
   "id": "9716f94d-370f-4e27-af2b-7a40745f9b0f",
   "metadata": {},
   "outputs": [],
   "source": []
  },
  {
   "cell_type": "code",
   "execution_count": null,
   "id": "7e51da85-2f2e-43ed-b728-36f7df9d77ff",
   "metadata": {},
   "outputs": [],
   "source": []
  },
  {
   "cell_type": "code",
   "execution_count": null,
   "id": "df52b1cc-36a0-4cde-9159-24f9623e59f9",
   "metadata": {},
   "outputs": [],
   "source": []
  },
  {
   "cell_type": "code",
   "execution_count": null,
   "id": "66bf871a-9bcb-42e7-87e4-ad4059e51294",
   "metadata": {},
   "outputs": [],
   "source": []
  },
  {
   "cell_type": "code",
   "execution_count": null,
   "id": "d1b23e39-6c08-4da5-b156-4248fb8cbc71",
   "metadata": {},
   "outputs": [],
   "source": []
  }
 ],
 "metadata": {
  "kernelspec": {
   "display_name": "Python 3 (ipykernel)",
   "language": "python",
   "name": "python3"
  },
  "language_info": {
   "codemirror_mode": {
    "name": "ipython",
    "version": 3
   },
   "file_extension": ".py",
   "mimetype": "text/x-python",
   "name": "python",
   "nbconvert_exporter": "python",
   "pygments_lexer": "ipython3",
   "version": "3.11.7"
  }
 },
 "nbformat": 4,
 "nbformat_minor": 5
}
